{
 "cells": [
  {
   "cell_type": "markdown",
   "id": "5a24ff9b-0359-42bf-879e-b45332ccd283",
   "metadata": {},
   "source": [
    "# Data Science portfolio project"
   ]
  },
  {
   "cell_type": "markdown",
   "id": "206d2bc2-09a4-47af-8d5a-643a1361fa00",
   "metadata": {},
   "source": [
    "#### This is a portfolio project for codecademy data scientist path. This is the final project for completion of the path."
   ]
  },
  {
   "cell_type": "markdown",
   "id": "56c0f70d-3255-41da-908e-e51684613e2f",
   "metadata": {},
   "source": [
    "##### The goal of this project is to analyze popular laptops purchased in 2024.\n",
    "\n",
    "##### These are some questions that we need answered by the end:\n",
    "\n",
    "1. Most popular brand\n",
    "2. Average cost of laptops\n",
    "3. Cheapest laptop\n",
    "4. Most expensive laptop\n",
    "5. Marks and reviews."
   ]
  },
  {
   "cell_type": "code",
   "execution_count": 2,
   "id": "70358613-6bd4-4ab6-a9b5-e05520488a5e",
   "metadata": {},
   "outputs": [
    {
     "name": "stdout",
     "output_type": "stream",
     "text": [
      "<class 'pandas.core.frame.DataFrame'>\n",
      "RangeIndex: 489 entries, 0 to 488\n",
      "Data columns (total 10 columns):\n",
      " #   Column                       Non-Null Count  Dtype  \n",
      "---  ------                       --------------  -----  \n",
      " 0   brand                        489 non-null    object \n",
      " 1   model                        488 non-null    object \n",
      " 2   aggregateRating/ratingValue  357 non-null    float64\n",
      " 3   aggregateRating/reviewCount  357 non-null    float64\n",
      " 4   offers/price                 262 non-null    float64\n",
      " 5   offers/priceCurrency         489 non-null    object \n",
      " 6   depth                        431 non-null    float64\n",
      " 7   width                        431 non-null    float64\n",
      " 8   features/0/description       486 non-null    object \n",
      " 9   features/1/description       483 non-null    object \n",
      "dtypes: float64(5), object(5)\n",
      "memory usage: 38.3+ KB\n"
     ]
    }
   ],
   "source": [
    "import pandas as pd\n",
    "laptops_2024 = pd.read_csv('best_buy_laptops_2024.csv')\n",
    "\n",
    "laptops_2024.info()"
   ]
  },
  {
   "cell_type": "markdown",
   "id": "d80ee89c-f178-4cbc-9f26-1c85084965b6",
   "metadata": {},
   "source": [
    "The names of some columns are too long. First, they need to be changed."
   ]
  },
  {
   "cell_type": "code",
   "execution_count": 4,
   "id": "8b53d48a-66fc-4fd7-a8b4-a447fdf006a0",
   "metadata": {},
   "outputs": [
    {
     "name": "stdout",
     "output_type": "stream",
     "text": [
      "<class 'pandas.core.frame.DataFrame'>\n",
      "RangeIndex: 489 entries, 0 to 488\n",
      "Data columns (total 10 columns):\n",
      " #   Column                  Non-Null Count  Dtype  \n",
      "---  ------                  --------------  -----  \n",
      " 0   brand                   489 non-null    object \n",
      " 1   model                   488 non-null    object \n",
      " 2   rating                  357 non-null    float64\n",
      " 3   reviewCount             357 non-null    float64\n",
      " 4   price                   262 non-null    float64\n",
      " 5   currency                489 non-null    object \n",
      " 6   depth                   431 non-null    float64\n",
      " 7   width                   431 non-null    float64\n",
      " 8   features/0/description  486 non-null    object \n",
      " 9   features/1/description  483 non-null    object \n",
      "dtypes: float64(5), object(5)\n",
      "memory usage: 38.3+ KB\n"
     ]
    }
   ],
   "source": [
    "new_names = {\n",
    "    'aggregateRating/ratingValue' : 'rating', \n",
    "    'aggregateRating/reviewCount' : 'reviewCount', \n",
    "    'offers/price' : 'price', \n",
    "    'offers/priceCurrency' : 'currency', \n",
    "}\n",
    "laptops_2024 = laptops_2024.rename(\n",
    "    mapper = new_names, \n",
    "    axis = 1,\n",
    ")\n",
    "laptops_2024.info()"
   ]
  },
  {
   "cell_type": "markdown",
   "id": "f2bd8c11-6941-4950-90f1-bc3d11783d44",
   "metadata": {},
   "source": [
    "Column 8 and 9 look to be the same. They must be one."
   ]
  },
  {
   "cell_type": "code",
   "execution_count": 5,
   "id": "5de5a924-0208-4639-a42e-a78ef5f720eb",
   "metadata": {},
   "outputs": [
    {
     "name": "stdout",
     "output_type": "stream",
     "text": [
      "<class 'pandas.core.frame.DataFrame'>\n",
      "RangeIndex: 489 entries, 0 to 488\n",
      "Data columns (total 9 columns):\n",
      " #   Column                  Non-Null Count  Dtype  \n",
      "---  ------                  --------------  -----  \n",
      " 0   brand                   489 non-null    object \n",
      " 1   model                   488 non-null    object \n",
      " 2   rating                  357 non-null    float64\n",
      " 3   reviewCount             357 non-null    float64\n",
      " 4   price                   262 non-null    float64\n",
      " 5   currency                489 non-null    object \n",
      " 6   depth                   431 non-null    float64\n",
      " 7   width                   431 non-null    float64\n",
      " 8   features & description  481 non-null    object \n",
      "dtypes: float64(5), object(4)\n",
      "memory usage: 34.5+ KB\n"
     ]
    }
   ],
   "source": [
    "laptops_2024['features & description'] = laptops_2024['features/0/description'].str.cat(\n",
    "    laptops_2024['features/1/description'], sep=' + '\n",
    ")\n",
    "column_drop = ['features/0/description', 'features/1/description']\n",
    "laptops_2024 = laptops_2024.drop(\n",
    "    labels=column_drop, \n",
    "    axis=1\n",
    ")\n",
    "\n",
    "laptops_2024.info()"
   ]
  },
  {
   "cell_type": "markdown",
   "id": "3f8605ae-82e2-4e43-b654-42f98ae43ab6",
   "metadata": {},
   "source": [
    " Now, another dataframe must be created separate from the original. This dataframe will help analyze about the brands."
   ]
  },
  {
   "cell_type": "code",
   "execution_count": 6,
   "id": "2de4f66b-e9bb-4e34-8c81-f7bc06db4660",
   "metadata": {},
   "outputs": [
    {
     "name": "stdout",
     "output_type": "stream",
     "text": [
      "<class 'pandas.core.frame.DataFrame'>\n",
      "RangeIndex: 489 entries, 0 to 488\n",
      "Data columns (total 9 columns):\n",
      " #   Column                  Non-Null Count  Dtype  \n",
      "---  ------                  --------------  -----  \n",
      " 0   brand                   489 non-null    object \n",
      " 1   model                   488 non-null    object \n",
      " 2   rating                  357 non-null    float64\n",
      " 3   reviewCount             357 non-null    float64\n",
      " 4   price                   262 non-null    float64\n",
      " 5   currency                489 non-null    object \n",
      " 6   depth                   431 non-null    float64\n",
      " 7   width                   431 non-null    float64\n",
      " 8   features & description  481 non-null    object \n",
      "dtypes: float64(5), object(4)\n",
      "memory usage: 34.5+ KB\n"
     ]
    }
   ],
   "source": [
    "laptops_brand = laptops_2024\n",
    "\n",
    "laptops_brand.info()"
   ]
  },
  {
   "cell_type": "code",
   "execution_count": 9,
   "id": "aff76e8a-ea4e-4696-a975-2062ac3b7b43",
   "metadata": {},
   "outputs": [
    {
     "name": "stdout",
     "output_type": "stream",
     "text": [
      "<class 'pandas.core.frame.DataFrame'>\n",
      "RangeIndex: 489 entries, 0 to 488\n",
      "Data columns (total 4 columns):\n",
      " #   Column       Non-Null Count  Dtype  \n",
      "---  ------       --------------  -----  \n",
      " 0   brand        489 non-null    object \n",
      " 1   model        488 non-null    object \n",
      " 2   rating       357 non-null    float64\n",
      " 3   reviewCount  357 non-null    float64\n",
      "dtypes: float64(2), object(2)\n",
      "memory usage: 15.4+ KB\n"
     ]
    }
   ],
   "source": [
    "col_drop = ['price','currency','depth','width', 'features & description' ]\n",
    "\n",
    "laptops_brand = laptops_brand.drop(\n",
    "    labels = col_drop,\n",
    "    axis=1\n",
    ")\n",
    "\n",
    "laptops_brand.info()"
   ]
  },
  {
   "cell_type": "markdown",
   "id": "1de650ce-c34b-478a-ad72-dc022afb5fdb",
   "metadata": {},
   "source": [
    "# Most popular brand"
   ]
  },
  {
   "cell_type": "code",
   "execution_count": 10,
   "id": "ff3847ea-6323-4477-b56d-501b119df0b8",
   "metadata": {},
   "outputs": [
    {
     "data": {
      "text/plain": [
       "brand\n",
       "Lenovo       99\n",
       "Dell         83\n",
       "HP           68\n",
       "ASUS         63\n",
       "Microsoft    51\n",
       "Acer         32\n",
       "Razer        22\n",
       "MSI          22\n",
       "GIGABYTE     14\n",
       "Samsung      13\n",
       "LG            9\n",
       "Alienware     6\n",
       "HP OMEN       6\n",
       "Thomson       1\n",
       "Name: count, dtype: int64"
      ]
     },
     "execution_count": 10,
     "metadata": {},
     "output_type": "execute_result"
    }
   ],
   "source": [
    "laptops_brand['brand'].value_counts()"
   ]
  },
  {
   "cell_type": "code",
   "execution_count": 11,
   "id": "6b3b93b5-cf05-45da-9bef-6c8f068f88cd",
   "metadata": {},
   "outputs": [],
   "source": [
    "brand_rating = (laptops_brand['rating'] == laptops_brand['rating'].max())\n",
    "brand_review = (laptops_brand['reviewCount'] == laptops_brand['reviewCount'].max())\n",
    "\n",
    "highest_rating = laptops_brand[brand_rating]\n",
    "highest_review = laptops_brand[brand_review]"
   ]
  },
  {
   "cell_type": "code",
   "execution_count": 14,
   "id": "5c592286-a2f2-4d95-8063-788e1817295f",
   "metadata": {},
   "outputs": [
    {
     "name": "stdout",
     "output_type": "stream",
     "text": [
      "Highest rating:\n",
      "brand\n",
      "ASUS         11\n",
      "Dell         11\n",
      "Lenovo       10\n",
      "HP           10\n",
      "Razer         5\n",
      "Acer          5\n",
      "Microsoft     3\n",
      "LG            2\n",
      "GIGABYTE      2\n",
      "HP OMEN       1\n",
      "Thomson       1\n",
      "Name: count, dtype: int64\n",
      "\n",
      "Highest review:\n",
      "brand\n",
      "HP    3\n",
      "Name: count, dtype: int64\n"
     ]
    }
   ],
   "source": [
    "print('Highest rating:')\n",
    "print(highest_rating['brand'].value_counts())\n",
    "print()\n",
    "print('Highest review:')\n",
    "print(highest_review['brand'].value_counts())"
   ]
  },
  {
   "cell_type": "markdown",
   "id": "05773dd3-2001-4fb3-a29c-dae0cd186199",
   "metadata": {},
   "source": [
    "1. Lenovo is the most popular brand in market in 2024, but not the highest rated.\n",
    "2. Highest rated laptops are ASUS and Dell.\n",
    "3. Highest review score is for HP laptops."
   ]
  },
  {
   "cell_type": "markdown",
   "id": "b9a121f8-c306-4d89-a135-379e7c9a5577",
   "metadata": {},
   "source": [
    "# Average cost of laptops"
   ]
  },
  {
   "cell_type": "code",
   "execution_count": 15,
   "id": "df8980f1-085c-43f6-b1e6-06388ad7212e",
   "metadata": {},
   "outputs": [
    {
     "data": {
      "text/plain": [
       "count     262.00\n",
       "mean     1159.04\n",
       "std       782.61\n",
       "min       143.99\n",
       "25%       639.99\n",
       "50%       959.99\n",
       "75%      1494.99\n",
       "max      4489.99\n",
       "Name: price, dtype: float64"
      ]
     },
     "execution_count": 15,
     "metadata": {},
     "output_type": "execute_result"
    }
   ],
   "source": [
    "laptops_2024['price'].describe().round(decimals=2)"
   ]
  },
  {
   "cell_type": "markdown",
   "id": "f44a83a2-30aa-496e-ba08-a422660c4bb2",
   "metadata": {},
   "source": [
    "1. Average cost is: 1159.04\r",
    "2. Most expensive laptop : 4489.9\n",
    "3. Cheapest laptop: 143.9999"
   ]
  },
  {
   "cell_type": "markdown",
   "id": "100285b4-1f1a-4b60-9c61-583d7ac9b7e2",
   "metadata": {},
   "source": [
    "# Most expensive and cheapest"
   ]
  },
  {
   "cell_type": "code",
   "execution_count": 16,
   "id": "f0d026f4-8e33-45c2-bc37-550a3044bbb0",
   "metadata": {},
   "outputs": [
    {
     "name": "stdout",
     "output_type": "stream",
     "text": [
      "Cheapest laptop in 2024: \n",
      "\n",
      "      brand       model  rating  reviewCount   price currency  depth  width  \\\n",
      "176  Lenovo  82LV003WUS     3.0          2.0  143.99      USD   9.29  14.18   \n",
      "\n",
      "                      features & description  \n",
      "176  4GB Soldered DDR4-2933 + 128GB eMMC 5.1  \n",
      "\n",
      "Most expensive laptop in 2024: \n",
      "\n",
      "    brand  model  rating  reviewCount    price currency  depth  width  \\\n",
      "335  Dell  3GCR6     1.0          1.0  4489.99      USD   10.0   15.0   \n",
      "\n",
      "                                features & description  \n",
      "335  Microsoft Windows 11 Pro gives you a user-frie...  \n"
     ]
    }
   ],
   "source": [
    "expensive = (laptops_2024['price'] == laptops_2024['price'].max())\n",
    "cheapest = (laptops_2024['price'] == laptops_2024['price'].min())\n",
    "\n",
    "expensive_laptop = laptops_2024[expensive]\n",
    "cheapest_laptop = laptops_2024[cheapest]\n",
    "\n",
    "#Let's print out the cheapest and most expensive 2024 laptops\n",
    "print('Cheapest laptop in 2024: \\n')\n",
    "print(cheapest_laptop)\n",
    "print()\n",
    "print('Most expensive laptop in 2024: \\n')\n",
    "print(expensive_laptop)"
   ]
  },
  {
   "cell_type": "markdown",
   "id": "0c1232d0-141e-42f4-9593-37ad21afce8a",
   "metadata": {},
   "source": [
    "1. Lenovo 82LV003WUS is the cheapest laptop with a 3.0 rating and a 2.0 review score.\n",
    "2. Dell 3GCR6 is the most expensive laptop with a 1.0 rating and a 1.0 review score."
   ]
  },
  {
   "cell_type": "markdown",
   "id": "5c4cf851-9500-4aaa-b437-0c6ebe4ab7f1",
   "metadata": {},
   "source": [
    "### Conclusion:"
   ]
  },
  {
   "cell_type": "markdown",
   "id": "0e0380c8-504a-455e-bc15-9cdef495cc06",
   "metadata": {},
   "source": [
    "1. Lenovo has sold most laptops in 2024.\n",
    "2. Asus and Dell have highest ratings and Lenovo and HP are second.\n",
    "3. HP laptops the highest review score.\n",
    "4. Average cost for a laptop in 2024 is about 1159.04 dollars.\n",
    "5. Cheapest laptop in 2024 costs 143.99 dollars.\n",
    "6. Most expensive laptop in 2024 costs 4489.99 dollars.\n",
    "7. Lenovo 82LV003WUS is the cheapest laptop with a 3.0 rating and a 2.0 review score.\n",
    "8. The Dell 3GCR6 is the most expensive laptop with a 1.0 rating and a 1.0 review score."
   ]
  }
 ],
 "metadata": {
  "kernelspec": {
   "display_name": "Python 3 (ipykernel)",
   "language": "python",
   "name": "python3"
  },
  "language_info": {
   "codemirror_mode": {
    "name": "ipython",
    "version": 3
   },
   "file_extension": ".py",
   "mimetype": "text/x-python",
   "name": "python",
   "nbconvert_exporter": "python",
   "pygments_lexer": "ipython3",
   "version": "3.12.4"
  }
 },
 "nbformat": 4,
 "nbformat_minor": 5
}
